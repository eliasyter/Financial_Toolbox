{
 "cells": [
  {
   "cell_type": "code",
   "execution_count": 66,
   "id": "1a8de429-03e2-464d-8d4b-be2b836ecfb7",
   "metadata": {},
   "outputs": [
    {
     "name": "stdout",
     "output_type": "stream",
     "text": [
      "The autoreload extension is already loaded. To reload it, use:\n",
      "  %reload_ext autoreload\n"
     ]
    }
   ],
   "source": [
    "%load_ext autoreload\n",
    "%reload_ext autoreload\n",
    "%autoreload 2"
   ]
  },
  {
   "cell_type": "code",
   "execution_count": 67,
   "id": "646982d6-4ba8-499e-814e-d9e22b2501ca",
   "metadata": {},
   "outputs": [],
   "source": [
    "stocks = \"HAFNI.OL ORK.OL ELISA.HE NOKIA.HE GOGL GM\""
   ]
  },
  {
   "cell_type": "code",
   "execution_count": 145,
   "id": "35f77032-047e-4245-9935-7ddf68681905",
   "metadata": {},
   "outputs": [],
   "source": [
    "def PrintPF(name, pf):\n",
    "    print(name)\n",
    "    print(\"----------------\")\n",
    "    print(f\"Return: {pf.Ret.item():.4%}\")\n",
    "    print(f\"Volat.: {pf.Vol.item():.4%}\")\n",
    "    print(\"   Composition\")\n",
    "    for k, v in pf.Comp.item().items():\n",
    "        print(f\"   {k}: {v:.2%}\")\n",
    "    print(\"\")"
   ]
  },
  {
   "cell_type": "markdown",
   "id": "5b97481d-298d-4768-ac88-aa2f7dea373e",
   "metadata": {},
   "source": [
    "## Mean-Variance optimisation under no constraints"
   ]
  },
  {
   "cell_type": "code",
   "execution_count": 149,
   "id": "a50161c1-a6f2-45de-a917-599b21801f6d",
   "metadata": {},
   "outputs": [
    {
     "name": "stderr",
     "output_type": "stream",
     "text": [
      "[*********************100%***********************]  2 of 2 completed\n",
      "[*********************100%***********************]  6 of 6 completed\n",
      "[*********************100%***********************]  2 of 2 completed\n",
      "[*********************100%***********************]  6 of 6 completed"
     ]
    },
    {
     "name": "stdout",
     "output_type": "stream",
     "text": [
      "Optimal no constraint portfolio\n",
      "----------------\n",
      "Return: 30.3034%\n",
      "Volat.: 41.8269%\n",
      "   Composition\n",
      "   HAFNI.OL: -95.04%\n",
      "   ORK.OL: 21.62%\n",
      "   ELISA.HE: -22.09%\n",
      "   NOKIA.HE: 60.42%\n",
      "   GOGL: 0.45%\n",
      "   GM: 134.63%\n",
      "\n"
     ]
    },
    {
     "name": "stderr",
     "output_type": "stream",
     "text": [
      "\n"
     ]
    }
   ],
   "source": [
    "from optimisation import Mean_Variance_No_Constraints_Robust\n",
    "\n",
    "exp_ret = 0.35 #we fix an expected return of 35%\n",
    "pf = Mean_Variance_No_Constraints_Robust(stocks, exp_ret, period=\"3y\", verbose=False)\n",
    "PrintPF(\"Optimal no constraint portfolio\", pf)"
   ]
  },
  {
   "cell_type": "markdown",
   "id": "6027ae6b-a6c0-465f-80ca-fbdd0ecd349f",
   "metadata": {},
   "source": [
    "## Mean-Variance optimisation without shortselling"
   ]
  },
  {
   "cell_type": "code",
   "execution_count": 150,
   "id": "1de63204-5881-4673-a4bc-be89fb344f0a",
   "metadata": {},
   "outputs": [
    {
     "name": "stderr",
     "output_type": "stream",
     "text": [
      "[*********************100%***********************]  2 of 2 completed\n",
      "[*********************100%***********************]  6 of 6 completed\n",
      "[*********************100%***********************]  2 of 2 completed\n",
      "[*********************100%***********************]  6 of 6 completed"
     ]
    },
    {
     "name": "stdout",
     "output_type": "stream",
     "text": [
      "Optimal no shortselling portfolio\n",
      "----------------\n",
      "Return: 18.3789%\n",
      "Volat.: 41.4200%\n",
      "   Composition\n",
      "   HAFNI.OL: 0.00%\n",
      "   ORK.OL: 0.00%\n",
      "   ELISA.HE: 0.00%\n",
      "   NOKIA.HE: 97.33%\n",
      "   GOGL: 0.00%\n",
      "   GM: 2.67%\n",
      "\n"
     ]
    },
    {
     "name": "stderr",
     "output_type": "stream",
     "text": [
      "\n"
     ]
    }
   ],
   "source": [
    "from optimisation import Mean_Variance_No_Shortselling\n",
    "\n",
    "exp_ret = 0.20 #we fix an expected return of 20%\n",
    "pf_nss = Mean_Variance_No_Shortselling(stocks, exp_ret, period=\"3y\", verbose=False)\n",
    "PrintPF(\"Optimal no shortselling portfolio\", pf_nss)"
   ]
  },
  {
   "cell_type": "markdown",
   "id": "e9230973-e7c0-4304-abf8-6e1cfa2437e2",
   "metadata": {},
   "source": [
    "## Efficiency frontier under no constraints"
   ]
  },
  {
   "cell_type": "code",
   "execution_count": 78,
   "id": "ceb38d49-6742-41c8-a021-6247ebeb30da",
   "metadata": {},
   "outputs": [
    {
     "name": "stderr",
     "output_type": "stream",
     "text": [
      "[*********************100%***********************]  2 of 2 completed\n",
      "[*********************100%***********************]  6 of 6 completed\n",
      "[*********************100%***********************]  2 of 2 completed\n",
      "[*********************100%***********************]  6 of 6 completed\n"
     ]
    },
    {
     "data": {
      "image/png": "[encoded data removed]",
      "text/plain": [
       "<Figure size 600x400 with 1 Axes>"
      ]
     },
     "metadata": {},
     "output_type": "display_data"
    }
   ],
   "source": [
    "from optimisation import Efficiency_Frontier_No_Constraints\n",
    "\n",
    "EF = Efficiency_Frontier_No_Constraints(stocks, 0.1, 1.5, prec=0.1, period=\"1y\", verbose=False)\n",
    "tang_pf = EF.iloc[EF[\"Ret/Vol\"].argmax()]\n",
    "minvar_pf = EF.iloc[EF[\"Vol\"].argmin()]\n",
    "\n",
    "plt.figure(figsize=(6,4))\n",
    "plt.title(\"6 stock efficiency frontier\")\n",
    "plt.plot(EF.Vol,EF.Ret,linestyle=\"--\",color=\"salmon\")\n",
    "plt.plot(tang_pf.Vol,tang_pf.Ret,marker=\"X\",color=\"red\",label=\"tangency portfolio\")\n",
    "plt.plot(minvar_pf.Vol,minvar_pf.Ret,marker=\"X\",color=\"blue\",label=\"minimum var. portfolio\")\n",
    "plt.ylabel(\"exp. ret\")\n",
    "plt.xlabel(\"volatility\")\n",
    "plt.legend()\n",
    "plt.show()"
   ]
  },
  {
   "cell_type": "markdown",
   "id": "180628e9-1bd4-45de-9bf8-f4a2401eaf96",
   "metadata": {},
   "source": [
    "### Composition of tangency portfolio"
   ]
  },
  {
   "cell_type": "code",
   "execution_count": 85,
   "id": "3c1f6076-d7b9-40c5-9915-f2d78ba14de6",
   "metadata": {},
   "outputs": [
    {
     "name": "stdout",
     "output_type": "stream",
     "text": [
      "tangency portfolio\n",
      "----------------\n",
      "Return: 100.7193%\n",
      "Volat.: 26.8559%\n",
      "   Composition\n",
      "   HAFNI.OL: -2.18%\n",
      "   ORK.OL: 8.92%\n",
      "   ELISA.HE: -11.96%\n",
      "   NOKIA.HE: -30.00%\n",
      "   GOGL: 46.30%\n",
      "   GM: 88.92%\n",
      "\n"
     ]
    }
   ],
   "source": [
    "PrintPF(\"tangency portfolio\",tang_pf)"
   ]
  },
  {
   "cell_type": "markdown",
   "id": "18479d39-f820-4225-a8e9-9c98c07b4154",
   "metadata": {},
   "source": [
    "### Composition of minimum variance portfolio"
   ]
  },
  {
   "cell_type": "code",
   "execution_count": 86,
   "id": "302927bd-0c57-4f23-838e-4c0709368afc",
   "metadata": {},
   "outputs": [
    {
     "name": "stdout",
     "output_type": "stream",
     "text": [
      "minimum variance portfolio\n",
      "----------------\n",
      "Return: 26.8756%\n",
      "Volat.: 13.4705%\n",
      "   Composition\n",
      "   HAFNI.OL: 35.09%\n",
      "   ORK.OL: 11.67%\n",
      "   ELISA.HE: 8.59%\n",
      "   NOKIA.HE: 5.44%\n",
      "   GOGL: 12.20%\n",
      "   GM: 27.02%\n",
      "\n"
     ]
    }
   ],
   "source": [
    "PrintPF(\"minimum variance portfolio\",minvar_pf)"
   ]
  },
  {
   "cell_type": "code",
   "execution_count": null,
   "id": "d248b227-a086-4ce8-b62d-4c5f26c9d600",
   "metadata": {},
   "outputs": [],
   "source": []
  }
 ],
 "metadata": {
  "kernelspec": {
   "display_name": "Python 3 (ipykernel)",
   "language": "python",
   "name": "python3"
  },
  "language_info": {
   "codemirror_mode": {
    "name": "ipython",
    "version": 3
   },
   "file_extension": ".py",
   "mimetype": "text/x-python",
   "name": "python",
   "nbconvert_exporter": "python",
   "pygments_lexer": "ipython3",
   "version": "3.13.1"
  }
 },
 "nbformat": 4,
 "nbformat_minor": 5
}
